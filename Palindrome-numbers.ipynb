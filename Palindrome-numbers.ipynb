{
 "cells": [
  {
   "cell_type": "code",
   "execution_count": 1,
   "id": "5d461023",
   "metadata": {},
   "outputs": [
    {
     "name": "stdout",
     "output_type": "stream",
     "text": [
      "Enter number: 123\n",
      "The number is not a palindrome\n"
     ]
    }
   ],
   "source": [
    "# Python program that checks if a number is a palindrome number\n",
    "num = int(input('Enter number: '))\n",
    "num1 = num\n",
    "\n",
    "# Initializing the reverse of the number\n",
    "rev_num = 0\n",
    "\n",
    "# Using the while loop. The loop continues to run until all digits of the number are reversed.\n",
    "while num > 0:\n",
    "    digits = num % 10\n",
    "    rev_num = rev_num * 10 + digits \n",
    "    num = num//10\n",
    "    \n",
    "if num1 == rev_num:\n",
    "    print('The number is a palindrome')\n",
    "else:\n",
    "    print('The number is not a palindrome')"
   ]
  },
  {
   "cell_type": "code",
   "execution_count": null,
   "id": "cdfd304c",
   "metadata": {},
   "outputs": [],
   "source": []
  }
 ],
 "metadata": {
  "kernelspec": {
   "display_name": "Python 3 (ipykernel)",
   "language": "python",
   "name": "python3"
  },
  "language_info": {
   "codemirror_mode": {
    "name": "ipython",
    "version": 3
   },
   "file_extension": ".py",
   "mimetype": "text/x-python",
   "name": "python",
   "nbconvert_exporter": "python",
   "pygments_lexer": "ipython3",
   "version": "3.9.7"
  }
 },
 "nbformat": 4,
 "nbformat_minor": 5
}
