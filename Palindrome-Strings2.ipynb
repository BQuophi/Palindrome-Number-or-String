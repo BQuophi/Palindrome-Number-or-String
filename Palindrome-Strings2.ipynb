{
 "cells": [
  {
   "cell_type": "code",
   "execution_count": null,
   "id": "f212a25f",
   "metadata": {},
   "outputs": [],
   "source": [
    "# Python program that checks if a string is a palindrome\n",
    "string = input('Enter the string: ') # Inputs can be strings but also integers since they will be converted to and used as strings.\n",
    "\n",
    "# The casefold() method makes the string suitable for making caseless comparisons.It returns lowercased version of the string.So all the alphabets are lowercased and thus makes it easier when reversing and comparing.\n",
    "string = string.casefold()\n",
    "\n",
    "# Reversing the string\n",
    "reverse_str = reversed(string)\n",
    "\n",
    "# Changing both strings into lists before comparing\n",
    "if list(string) == list(reverse_str):\n",
    "     print('The string is a palindrome')\n",
    "else:\n",
    "    print('The string is not a palindrome')"
   ]
  }
 ],
 "metadata": {
  "kernelspec": {
   "display_name": "Python 3 (ipykernel)",
   "language": "python",
   "name": "python3"
  },
  "language_info": {
   "codemirror_mode": {
    "name": "ipython",
    "version": 3
   },
   "file_extension": ".py",
   "mimetype": "text/x-python",
   "name": "python",
   "nbconvert_exporter": "python",
   "pygments_lexer": "ipython3",
   "version": "3.9.7"
  }
 },
 "nbformat": 4,
 "nbformat_minor": 5
}
