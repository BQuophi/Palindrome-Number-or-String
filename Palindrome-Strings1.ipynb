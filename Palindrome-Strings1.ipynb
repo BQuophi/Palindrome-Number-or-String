{
 "cells": [
  {
   "cell_type": "code",
   "execution_count": null,
   "id": "51779720",
   "metadata": {},
   "outputs": [],
   "source": [
    "# Python program that checks if a string is a palindrome \n",
    "string = input('Enter the string: ')\n",
    "\n",
    "if string == string[::-1] :\n",
    "    print('The string is a palindrome')\n",
    "else:\n",
    "    print('The string is not a palindrome')"
   ]
  }
 ],
 "metadata": {
  "kernelspec": {
   "display_name": "Python 3 (ipykernel)",
   "language": "python",
   "name": "python3"
  },
  "language_info": {
   "codemirror_mode": {
    "name": "ipython",
    "version": 3
   },
   "file_extension": ".py",
   "mimetype": "text/x-python",
   "name": "python",
   "nbconvert_exporter": "python",
   "pygments_lexer": "ipython3",
   "version": "3.9.7"
  }
 },
 "nbformat": 4,
 "nbformat_minor": 5
}
